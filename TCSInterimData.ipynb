{
  "nbformat": 4,
  "nbformat_minor": 0,
  "metadata": {
    "colab": {
      "name": "Untitled58.ipynb",
      "provenance": [],
      "collapsed_sections": [],
      "authorship_tag": "ABX9TyO7IT8dmLdSGOgNOCGlguaU",
      "include_colab_link": true
    },
    "kernelspec": {
      "name": "python3",
      "display_name": "Python 3"
    },
    "language_info": {
      "name": "python"
    }
  },
  "cells": [
    {
      "cell_type": "markdown",
      "metadata": {
        "id": "view-in-github",
        "colab_type": "text"
      },
      "source": [
        "<a href=\"https://colab.research.google.com/github/prasad-dash/DataAnalysis/blob/main/TCSInterimData.ipynb\" target=\"_parent\"><img src=\"https://colab.research.google.com/assets/colab-badge.svg\" alt=\"Open In Colab\"/></a>"
      ]
    },
    {
      "cell_type": "code",
      "metadata": {
        "colab": {
          "base_uri": "https://localhost:8080/"
        },
        "id": "CKStJ1y7vCc2",
        "outputId": "bd3c9163-14e0-46e9-c8bc-93c792fb6116"
      },
      "source": [
        "!wget https://www.bseindia.com/xml-data/corpfiling/AttachHis/0f58c131-c858-49a2-940c-6dc37ae935df.pdf"
      ],
      "execution_count": 1,
      "outputs": [
        {
          "output_type": "stream",
          "text": [
            "--2021-08-27 13:11:26--  https://www.bseindia.com/xml-data/corpfiling/AttachHis/0f58c131-c858-49a2-940c-6dc37ae935df.pdf\n",
            "Resolving www.bseindia.com (www.bseindia.com)... 192.229.211.185, 2606:2800:21f:2c49:1674:6421:889f:6fc7\n",
            "Connecting to www.bseindia.com (www.bseindia.com)|192.229.211.185|:443... connected.\n",
            "HTTP request sent, awaiting response... 200 OK\n",
            "Length: 12927904 (12M) [application/pdf]\n",
            "Saving to: ‘0f58c131-c858-49a2-940c-6dc37ae935df.pdf’\n",
            "\n",
            "0f58c131-c858-49a2- 100%[===================>]  12.33M   809KB/s    in 16s     \n",
            "\n",
            "2021-08-27 13:11:44 (791 KB/s) - ‘0f58c131-c858-49a2-940c-6dc37ae935df.pdf’ saved [12927904/12927904]\n",
            "\n"
          ],
          "name": "stdout"
        }
      ]
    },
    {
      "cell_type": "code",
      "metadata": {
        "id": "SFH2c_NDxpiS"
      },
      "source": [
        ""
      ],
      "execution_count": 44,
      "outputs": []
    },
    {
      "cell_type": "code",
      "metadata": {
        "colab": {
          "base_uri": "https://localhost:8080/"
        },
        "id": "ImWyv7574ilT",
        "outputId": "0f55b32f-b7ee-4cf2-dd1a-77dbd323bc27"
      },
      "source": [
        "!sudo apt install build-essential libpoppler-cpp-dev pkg-config python3-dev\n",
        "!pip install pdftotext"
      ],
      "execution_count": 42,
      "outputs": [
        {
          "output_type": "stream",
          "text": [
            "Reading package lists... Done\n",
            "Building dependency tree       \n",
            "Reading state information... Done\n",
            "build-essential is already the newest version (12.4ubuntu1).\n",
            "pkg-config is already the newest version (0.29.1-0ubuntu2).\n",
            "python3-dev is already the newest version (3.6.7-1~18.04).\n",
            "python3-dev set to manually installed.\n",
            "The following package was automatically installed and is no longer required:\n",
            "  libnvidia-common-460\n",
            "Use 'sudo apt autoremove' to remove it.\n",
            "The following additional packages will be installed:\n",
            "  libpoppler-cpp0v5\n",
            "The following NEW packages will be installed:\n",
            "  libpoppler-cpp-dev libpoppler-cpp0v5\n",
            "0 upgraded, 2 newly installed, 0 to remove and 40 not upgraded.\n",
            "Need to get 36.7 kB of archives.\n",
            "After this operation, 188 kB of additional disk space will be used.\n",
            "Get:1 http://archive.ubuntu.com/ubuntu bionic-updates/main amd64 libpoppler-cpp0v5 amd64 0.62.0-2ubuntu2.12 [28.0 kB]\n",
            "Get:2 http://archive.ubuntu.com/ubuntu bionic-updates/main amd64 libpoppler-cpp-dev amd64 0.62.0-2ubuntu2.12 [8,676 B]\n",
            "Fetched 36.7 kB in 0s (91.6 kB/s)\n",
            "debconf: unable to initialize frontend: Dialog\n",
            "debconf: (No usable dialog-like program is installed, so the dialog based frontend cannot be used. at /usr/share/perl5/Debconf/FrontEnd/Dialog.pm line 76, <> line 2.)\n",
            "debconf: falling back to frontend: Readline\n",
            "debconf: unable to initialize frontend: Readline\n",
            "debconf: (This frontend requires a controlling tty.)\n",
            "debconf: falling back to frontend: Teletype\n",
            "dpkg-preconfigure: unable to re-open stdin: \n",
            "Selecting previously unselected package libpoppler-cpp0v5:amd64.\n",
            "(Reading database ... 148489 files and directories currently installed.)\n",
            "Preparing to unpack .../libpoppler-cpp0v5_0.62.0-2ubuntu2.12_amd64.deb ...\n",
            "Unpacking libpoppler-cpp0v5:amd64 (0.62.0-2ubuntu2.12) ...\n",
            "Selecting previously unselected package libpoppler-cpp-dev:amd64.\n",
            "Preparing to unpack .../libpoppler-cpp-dev_0.62.0-2ubuntu2.12_amd64.deb ...\n",
            "Unpacking libpoppler-cpp-dev:amd64 (0.62.0-2ubuntu2.12) ...\n",
            "Setting up libpoppler-cpp0v5:amd64 (0.62.0-2ubuntu2.12) ...\n",
            "Setting up libpoppler-cpp-dev:amd64 (0.62.0-2ubuntu2.12) ...\n",
            "Processing triggers for libc-bin (2.27-3ubuntu1.2) ...\n",
            "/sbin/ldconfig.real: /usr/local/lib/python3.7/dist-packages/ideep4py/lib/libmkldnn.so.0 is not a symbolic link\n",
            "\n"
          ],
          "name": "stdout"
        }
      ]
    },
    {
      "cell_type": "code",
      "metadata": {
        "id": "OpFkZwYR5Akn"
      },
      "source": [
        "import pdftotext\n",
        "with open(\"/content/0f58c131-c858-49a2-940c-6dc37ae935df.pdf\", \"rb\") as f:\n",
        "    pdf = pdftotext.PDF(f)\n",
        "text=pdf[6]"
      ],
      "execution_count": 97,
      "outputs": []
    },
    {
      "cell_type": "code",
      "metadata": {
        "id": "A0jFXp9l5IbL"
      },
      "source": [
        "text=text.split('\\n')[6:]"
      ],
      "execution_count": 98,
      "outputs": []
    },
    {
      "cell_type": "code",
      "metadata": {
        "id": "_ilm-d9I-uFs"
      },
      "source": [
        "Header=text[0:3]\n",
        "text=text[3:]"
      ],
      "execution_count": 99,
      "outputs": []
    },
    {
      "cell_type": "code",
      "metadata": {
        "id": "xQRZ-sjF5XcD"
      },
      "source": [
        "del text[6:21]"
      ],
      "execution_count": 101,
      "outputs": []
    },
    {
      "cell_type": "code",
      "metadata": {
        "id": "FWoIqWut9R0I"
      },
      "source": [
        "del text[3]"
      ],
      "execution_count": 104,
      "outputs": []
    },
    {
      "cell_type": "code",
      "metadata": {
        "id": "rOEpTPJO_eio"
      },
      "source": [
        "text=text[:7]"
      ],
      "execution_count": 106,
      "outputs": []
    },
    {
      "cell_type": "code",
      "metadata": {
        "id": "Tt1u7nBU_j_J"
      },
      "source": [
        "for i in range(len(text)):\n",
        "  text[i]=text[i].split()"
      ],
      "execution_count": null,
      "outputs": []
    },
    {
      "cell_type": "code",
      "metadata": {
        "colab": {
          "base_uri": "https://localhost:8080/",
          "height": 80
        },
        "id": "JCPkfCgrADN_",
        "outputId": "789e1a24-f8c9-40d3-9d05-33ba99c344e9"
      },
      "source": [
        "df"
      ],
      "execution_count": 122,
      "outputs": [
        {
          "output_type": "execute_result",
          "data": {
            "text/html": [
              "<div>\n",
              "<style scoped>\n",
              "    .dataframe tbody tr th:only-of-type {\n",
              "        vertical-align: middle;\n",
              "    }\n",
              "\n",
              "    .dataframe tbody tr th {\n",
              "        vertical-align: top;\n",
              "    }\n",
              "\n",
              "    .dataframe thead th {\n",
              "        text-align: right;\n",
              "    }\n",
              "</style>\n",
              "<table border=\"1\" class=\"dataframe\">\n",
              "  <thead>\n",
              "    <tr style=\"text-align: right;\">\n",
              "      <th></th>\n",
              "      <th>Type</th>\n",
              "      <th>2020</th>\n",
              "      <th>2020</th>\n",
              "      <th>2019</th>\n",
              "      <th>2020</th>\n",
              "      <th>2019</th>\n",
              "      <th>2020</th>\n",
              "    </tr>\n",
              "  </thead>\n",
              "  <tbody>\n",
              "    <tr>\n",
              "      <th>0</th>\n",
              "      <td>Revenue</td>\n",
              "      <td>42,015</td>\n",
              "      <td>40,135</td>\n",
              "      <td>39,854</td>\n",
              "      <td>120,472</td>\n",
              "      <td>117,003</td>\n",
              "      <td>156,949</td>\n",
              "    </tr>\n",
              "  </tbody>\n",
              "</table>\n",
              "</div>"
            ],
            "text/plain": [
              "      Type    2020    2020    2019     2020     2019     2020\n",
              "0  Revenue  42,015  40,135  39,854  120,472  117,003  156,949"
            ]
          },
          "metadata": {},
          "execution_count": 122
        }
      ]
    },
    {
      "cell_type": "code",
      "metadata": {
        "colab": {
          "base_uri": "https://localhost:8080/"
        },
        "id": "GmbvPZAK5hl_",
        "outputId": "6003ae4e-3d53-4750-c290-df8fcd60ff53"
      },
      "source": [
        "for i,t in enumerate(text):\n",
        "    print(i,\" \",t)"
      ],
      "execution_count": 109,
      "outputs": [
        {
          "output_type": "stream",
          "text": [
            "0   ['Revenue', '42,015', '40,135', '39,854', '120,472', '117,003', '156,949']\n",
            "1   ['Other', 'income', '691', '914', '818', '2,203', '3,854', '4,592']\n",
            "2   ['TOTAL', 'INCOME', '42,706', '41,049', '40,', '67Z', '122,675', '120,857', '161,541']\n",
            "3   ['Employee', 'benefit', 'expenses', '23,431', '22,665', '21,622', '68,189', '63,901', '85,952']\n",
            "4   ['Fees', 'to', 'external', 'consultants', '3,230', '3,047', '3,268', '9,340', '9,741', '12,937']\n",
            "5   ['Other', 'operating', 'expenses', '2,750', '2,644', '3,633', '8,190', '10,792', '14,046']\n",
            "6   [\"'TOTAL\", 'EXPENSES', '30,831', '29,620', '29,880', '89,7Z5', '88,448', '118,369']\n"
          ],
          "name": "stdout"
        }
      ]
    },
    {
      "cell_type": "code",
      "metadata": {
        "id": "GfzcVp-c5wxf"
      },
      "source": [
        "import pandas as pd   \n",
        "df = pd.DataFrame([text[0]], columns =['Type', 'December 312020','September 30 2020','December 31, 2019','December 31 2020','December 31 2019','March 3 2020'])"
      ],
      "execution_count": 144,
      "outputs": []
    },
    {
      "cell_type": "code",
      "metadata": {
        "id": "NnYLs4xm86GF"
      },
      "source": [
        "df.loc[len(df)]=text[6]"
      ],
      "execution_count": 145,
      "outputs": []
    },
    {
      "cell_type": "code",
      "metadata": {
        "colab": {
          "base_uri": "https://localhost:8080/",
          "height": 111
        },
        "id": "2E0MkxFbC1nd",
        "outputId": "20a40620-58e2-4dfc-cc91-a6ce843b91ab"
      },
      "source": [
        "df"
      ],
      "execution_count": 146,
      "outputs": [
        {
          "output_type": "execute_result",
          "data": {
            "text/html": [
              "<div>\n",
              "<style scoped>\n",
              "    .dataframe tbody tr th:only-of-type {\n",
              "        vertical-align: middle;\n",
              "    }\n",
              "\n",
              "    .dataframe tbody tr th {\n",
              "        vertical-align: top;\n",
              "    }\n",
              "\n",
              "    .dataframe thead th {\n",
              "        text-align: right;\n",
              "    }\n",
              "</style>\n",
              "<table border=\"1\" class=\"dataframe\">\n",
              "  <thead>\n",
              "    <tr style=\"text-align: right;\">\n",
              "      <th></th>\n",
              "      <th>Type</th>\n",
              "      <th>December 312020</th>\n",
              "      <th>September 30 2020</th>\n",
              "      <th>December 31, 2019</th>\n",
              "      <th>December 31 2020</th>\n",
              "      <th>December 31 2019</th>\n",
              "      <th>March 3 2020</th>\n",
              "    </tr>\n",
              "  </thead>\n",
              "  <tbody>\n",
              "    <tr>\n",
              "      <th>0</th>\n",
              "      <td>Revenue</td>\n",
              "      <td>42,015</td>\n",
              "      <td>40,135</td>\n",
              "      <td>39,854</td>\n",
              "      <td>120,472</td>\n",
              "      <td>117,003</td>\n",
              "      <td>156,949</td>\n",
              "    </tr>\n",
              "    <tr>\n",
              "      <th>1</th>\n",
              "      <td>EXPENSES</td>\n",
              "      <td>30,831</td>\n",
              "      <td>29,620</td>\n",
              "      <td>29,880</td>\n",
              "      <td>89,7Z5</td>\n",
              "      <td>88,448</td>\n",
              "      <td>118,369</td>\n",
              "    </tr>\n",
              "  </tbody>\n",
              "</table>\n",
              "</div>"
            ],
            "text/plain": [
              "       Type December 312020  ... December 31 2019 March 3 2020\n",
              "0   Revenue          42,015  ...          117,003      156,949\n",
              "1  EXPENSES          30,831  ...           88,448      118,369\n",
              "\n",
              "[2 rows x 7 columns]"
            ]
          },
          "metadata": {},
          "execution_count": 146
        }
      ]
    },
    {
      "cell_type": "code",
      "metadata": {
        "colab": {
          "base_uri": "https://localhost:8080/"
        },
        "id": "IVDd7YIXC2AD",
        "outputId": "a8e03db6-05f1-4807-b57a-043913b3f7db"
      },
      "source": [
        "df.iloc[0,[1,6]]"
      ],
      "execution_count": 147,
      "outputs": [
        {
          "output_type": "execute_result",
          "data": {
            "text/plain": [
              "December 312020     42,015\n",
              "March 3 2020       156,949\n",
              "Name: 0, dtype: object"
            ]
          },
          "metadata": {},
          "execution_count": 147
        }
      ]
    },
    {
      "cell_type": "code",
      "metadata": {
        "colab": {
          "base_uri": "https://localhost:8080/"
        },
        "id": "1_1CMaIwDCb8",
        "outputId": "20870819-983e-4170-c7b5-fbc317bc8172"
      },
      "source": [
        "df.iloc[1,[1,6]]"
      ],
      "execution_count": 148,
      "outputs": [
        {
          "output_type": "execute_result",
          "data": {
            "text/plain": [
              "December 312020     30,831\n",
              "March 3 2020       118,369\n",
              "Name: 1, dtype: object"
            ]
          },
          "metadata": {},
          "execution_count": 148
        }
      ]
    }
  ]
}